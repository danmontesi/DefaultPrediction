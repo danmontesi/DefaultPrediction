{
 "cells": [
  {
   "cell_type": "code",
   "execution_count": 1,
   "metadata": {},
   "outputs": [],
   "source": [
    "import requests\n",
    "\n",
    "features = [0, 0.0, 0.0, 0.0, 0.00913461538461539, '1.0', '1.0', '-1.0', '1.0',\n",
    "       '1.0', 20, 6.4, 5.25, 'Youthful Shoes & Clothing',\n",
    "       'Clothing & Shoes', 1, 7225.0, 7225.0, 'F', 0.0, 0, 0, 0, 5, 0,\n",
    "       0, 0.0, 0.0, 1, '1', '1', '1', '1', '1', '1', 0, 8815, 0, 27157,\n",
    "       19.8955555555556, '-1.0']\n",
    "response = requests.post(\"http://0.0.0.0:80/predict\", json=features)\n",
    "response_json = response.json()"
   ]
  },
  {
   "cell_type": "code",
   "execution_count": 2,
   "metadata": {},
   "outputs": [
    {
     "data": {
      "text/plain": [
       "0.09128658201410726"
      ]
     },
     "execution_count": 2,
     "metadata": {},
     "output_type": "execute_result"
    }
   ],
   "source": [
    "response_json"
   ]
  }
 ],
 "metadata": {
  "kernelspec": {
   "display_name": "Python 3",
   "language": "python",
   "name": "python3"
  },
  "language_info": {
   "codemirror_mode": {
    "name": "ipython",
    "version": 3
   },
   "file_extension": ".py",
   "mimetype": "text/x-python",
   "name": "python",
   "nbconvert_exporter": "python",
   "pygments_lexer": "ipython3",
   "version": "3.8.5"
  }
 },
 "nbformat": 4,
 "nbformat_minor": 4
}
